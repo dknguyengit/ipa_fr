{
 "cells": [
  {
   "cell_type": "code",
   "execution_count": 21,
   "metadata": {},
   "outputs": [],
   "source": [
    "import sys, re, time\n",
    "from espeakng import ESpeakNG\n",
    "esng = ESpeakNG()\n",
    "esng.voice = 'fr'"
   ]
  },
  {
   "cell_type": "code",
   "execution_count": 28,
   "metadata": {},
   "outputs": [],
   "source": [
    "class color:\n",
    "   PURPLE = '\\033[95m'\n",
    "   CYAN = '\\033[96m'\n",
    "   DARKCYAN = '\\033[36m'\n",
    "   BLUE = '\\033[94m'\n",
    "   GREEN = '\\033[92m'\n",
    "   YELLOW = '\\033[93m'\n",
    "   RED = '\\033[91m'\n",
    "   BOLD = '\\033[1m'\n",
    "   UNDERLINE = '\\033[4m'\n",
    "   END = '\\033[0m'"
   ]
  },
  {
   "cell_type": "code",
   "execution_count": 29,
   "metadata": {},
   "outputs": [],
   "source": [
    "def transcribe(chars):\n",
    "    '''\n",
    "    Transcribe each chunk of text to IPA\n",
    "    Remove redundant IPA characters from transcription\n",
    "    '''\n",
    "    # (en) and (fr) appears in output of certain words, such as \"weekend\"\n",
    "    redundant_regex = r'[ːˈˌ-]|\\(en\\)|\\(fr\\)'\n",
    "    ipa = esng.g2p(chars, ipa=True)\n",
    "    ipa = re.sub(redundant_regex, '', ipa)\n",
    "    return ipa"
   ]
  },
  {
   "cell_type": "code",
   "execution_count": 30,
   "metadata": {},
   "outputs": [],
   "source": [
    "def print_transcription(text):\n",
    "    '''\n",
    "    Split input text to smaller chunks of text by punctuations\n",
    "    Transcribe each chunk of text and print final output (punctuations included)\n",
    "    '''\n",
    "    punctuations = ',.!?'\n",
    "    split_text = re.split(f'([{punctuations}])', text)\n",
    "\n",
    "    output = ''\n",
    "    for chars in split_text:\n",
    "        if chars not in punctuations:\n",
    "            chars = transcribe(chars)\n",
    "            output += chars\n",
    "        else:\n",
    "            output += (chars + ' ')\n",
    "    print(output)"
   ]
  },
  {
   "cell_type": "code",
   "execution_count": 34,
   "metadata": {},
   "outputs": [
    {
     "name": "stdout",
     "output_type": "stream",
     "text": [
      "lez ɔpozɑ̃z a la ʁefɔʁm de ʁətʁɛtz etɛ də nuvo dɑ̃ la ʁy maʁdi di desɑ̃bʁ paʁtu ɑ̃ fʁɑ̃s, apʁɛ la demɔ̃stʁasjɔ̃ də fɔʁs dy sɛ̃k desɑ̃bʁ. le manifɛstasjɔ̃ sɑ̃blɛ mwɛ̃ fuʁni, a la vɛj\n"
     ]
    }
   ],
   "source": [
    "text = '''Les opposants à la réforme des retraites étaient de nouveau dans\n",
    "la rue mardi 10 décembre partout en France,\n",
    "après la démonstration de force du 5 décembre.\n",
    "Les manifestations semblaient moins fournies, à la veille'''\n",
    "print_transcription(text)"
   ]
  },
  {
   "cell_type": "code",
   "execution_count": null,
   "metadata": {},
   "outputs": [],
   "source": []
  }
 ],
 "metadata": {
  "kernelspec": {
   "display_name": "Python 3",
   "language": "python",
   "name": "python3"
  },
  "language_info": {
   "codemirror_mode": {
    "name": "ipython",
    "version": 3
   },
   "file_extension": ".py",
   "mimetype": "text/x-python",
   "name": "python",
   "nbconvert_exporter": "python",
   "pygments_lexer": "ipython3",
   "version": "3.6.5"
  }
 },
 "nbformat": 4,
 "nbformat_minor": 2
}
